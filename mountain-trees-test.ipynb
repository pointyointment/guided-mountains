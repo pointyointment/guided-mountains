{
 "cells": [
  {
   "cell_type": "markdown",
   "metadata": {
    "collapsed": true
   },
   "source": [
    ""
   ]
  },
  {
   "cell_type": "code",
   "execution_count": 1,
   "metadata": {},
   "outputs": [],
   "source": [
    "%matplotlib inline"
   ]
  },
  {
   "cell_type": "code",
   "execution_count": 2,
   "metadata": {
    "collapsed": true
   },
   "outputs": [],
   "source": [
    "from matplotlib import *\n",
    "from matplotlib.pyplot import *\n",
    "from numpy import *\n",
    "from random import sample"
   ]
  },
  {
   "cell_type": "code",
   "execution_count": 3,
   "metadata": {
    "collapsed": false
   },
   "outputs": [
    {
     "data": {
      "text/plain": [
       "0.10000000000000001"
      ]
     },
     "execution_count": 3,
     "metadata": {},
     "output_type": "execute_result"
    }
   ],
   "source": [
    "r = 3.0\n",
    "sx = 15  # Physical grid size (external units, e.g. meters)\n",
    "sy = 15\n",
    "n_candidates = 30\n",
    "n = sx * sy\n",
    "cell_size_upper_bound = r / sqrt(n)\n",
    "cell_size = 10**(ceil(log10(cell_size_upper_bound)) - 1)\n",
    "cell_size"
   ]
  },
  {
   "cell_type": "code",
   "execution_count": 4,
   "metadata": {
    "collapsed": false
   },
   "outputs": [
    {
     "data": {
      "text/plain": [
       "(18, 39)"
      ]
     },
     "execution_count": 4,
     "metadata": {},
     "output_type": "execute_result"
    }
   ],
   "source": [
    "s1 = int(sx / cell_size)  # Logical grid size (internal units for Bridson's algorithm)\n",
    "s2 = int(sy / cell_size)\n",
    "sr = r / cell_size  # Logical Poisson disc radius\n",
    "\n",
    "grid = zeros((s1, s2))\n",
    "grid = grid.astype(int)\n",
    "grid.fill(-1)\n",
    "start_point = random.randint(0, grid.shape[0]), random.randint(0, grid.shape[1])\n",
    "start_point"
   ]
  },
  {
   "cell_type": "code",
   "execution_count": 5,
   "metadata": {
    "collapsed": false
   },
   "outputs": [
    {
     "data": {
      "text/plain": [
       "{(18, 39)}"
      ]
     },
     "execution_count": 5,
     "metadata": {},
     "output_type": "execute_result"
    }
   ],
   "source": [
    "grid[start_point] = 0  # 0 is the first point index so can be hardcoded\n",
    "active_points = set([start_point])  # Start the active points set\n",
    "active_points"
   ]
  },
  {
   "cell_type": "code",
   "execution_count": 38,
   "metadata": {},
   "outputs": [],
   "source": [
    "def translate_point(point, translation):\n",
    "    print(point, translation)\n",
    "    return (point[0] + translation[0]), (point[1] + translation[1])"
   ]
  },
  {
   "cell_type": "code",
   "execution_count": 39,
   "metadata": {
    "collapsed": true
   },
   "outputs": [
    {
     "name": "stdout",
     "output_type": "stream",
     "text": [
      "(0, 1) (6, 7)\n(2, 0) (6, 7)\n(1, 0) (6, 7)\n(1, 1) (6, 7)\n"
     ]
    },
    {
     "data": {
      "text/plain": [
       "[(6, 8), (8, 7), (7, 7), (7, 8)]"
      ]
     },
     "execution_count": 39,
     "metadata": {},
     "output_type": "execute_result"
    }
   ],
   "source": [
    "def generate_candidates(point, selector, n):\n",
    "    candidates = set()\n",
    "    while len(candidates) < n:\n",
    "        # generate random points inside the selector's bounding box\n",
    "        metacandidate = random.randint(0, selector.shape[0]),\\\n",
    "                        random.randint(0, selector.shape[1])\n",
    "        # accept points covered by the selector\n",
    "        if selector[metacandidate]:\n",
    "            candidates.add(metacandidate)\n",
    "    candidates = [translate_point(candidate, point) for candidate in candidates]\n",
    "    return candidates\n",
    "\n",
    "test_selector = array([[0, 1, 0],\n",
    "                  [1, 1, 0],\n",
    "                  [1, 0, 0]])\n",
    "\n",
    "generate_candidates((6, 7), test_selector, 4)"
   ]
  },
  {
   "cell_type": "code",
   "execution_count": 10,
   "metadata": {},
   "outputs": [
    {
     "data": {
      "text/plain": [
       "5.0"
      ]
     },
     "execution_count": 10,
     "metadata": {},
     "output_type": "execute_result"
    }
   ],
   "source": [
    "def distance_between_points(point_1, point_2):\n",
    "    # Pythagorean theorem\n",
    "    return sqrt((point_1[0] - point_2[0])**2 + (point_1[1] - point_2[1])**2)\n",
    "\n",
    "distance_between_points((1, 1), (5, 4))"
   ]
  },
  {
   "cell_type": "code",
   "execution_count": null,
   "metadata": {},
   "outputs": [],
   "source": [
    ""
   ]
  },
  {
   "cell_type": "code",
   "execution_count": 27,
   "metadata": {},
   "outputs": [
    {
     "data": {
      "text/plain": [
       "<matplotlib.image.AxesImage at 0x74ffba8>"
      ]
     },
     "execution_count": 27,
     "metadata": {},
     "output_type": "execute_result"
    },
    {
     "data": {
      "image/png": "[encoded data removed]",
      "text/plain": [
       "<matplotlib.figure.Figure at 0x748f1d0>"
      ]
     },
     "metadata": {},
     "output_type": "display_data"
    }
   ],
   "source": [
    "def generate_annular_selector(r_o, r_i):\n",
    "    size = int(ceil(2 * r_o + 1))\n",
    "    center = (r_o, r_o)\n",
    "    selector = zeros((size, size))  # bounding box\n",
    "    for y in range(size):\n",
    "        for x in range(size):\n",
    "            distance = distance_between_points((x, y), center)\n",
    "            if distance > r_i and distance < r_o + 1:\n",
    "                selector[y][x] = 1\n",
    "    return selector\n",
    "\n",
    "generated_selector = generate_annular_selector(16, 8)\n",
    "\n",
    "pyplot.imshow(generated_selector)"
   ]
  },
  {
   "cell_type": "code",
   "execution_count": null,
   "metadata": {},
   "outputs": [],
   "source": [
    "def check_collisions(grid, candidate, collider):\n",
    "    collider_t = [translate_point(point, candidate)\n",
    "                  for point in grid_to_list(collider)]\n",
    "    for point in collider_t:\n",
    "        if grid[point]:\n",
    "            return True\n",
    "    return False"
   ]
  },
  {
   "cell_type": "code",
   "execution_count": 41,
   "metadata": {
    "collapsed": false
   },
   "outputs": [
    {
     "name": "stdout",
     "output_type": "stream",
     "text": [
      "(18, 39)\n(3, 0) (18, 39)\n(2, 8) (18, 39)\n(9, 8) (18, 39)\n(2, 1) (18, 39)\n(8, 9) (18, 39)\n(9, 4) (18, 39)\n(3, 7) (18, 39)\n(7, 11) (18, 39)\n(10, 3) (18, 39)\n(1, 2) (18, 39)\n(2, 9) (18, 39)\n(11, 5) (18, 39)\n(10, 7) (18, 39)\n(6, 10) (18, 39)\n(12, 6) (18, 39)\n(8, 10) (18, 39)\n(10, 9) (18, 39)\n(12, 8) (18, 39)\n(3, 2) (18, 39)\n(5, 11) (18, 39)\n(12, 7) (18, 39)\n(1, 4) (18, 39)\n(2, 3) (18, 39)\n(1, 9) (18, 39)\n(6, 12) (18, 39)\n(2, 11) (18, 39)\n(9, 9) (18, 39)\n(1, 8) (18, 39)\n(11, 6) (18, 39)\n(10, 2) (18, 39)\n"
     ]
    },
    {
     "ename": "NameError",
     "evalue": "name 'check_collisions' is not defined",
     "traceback": [
      "\u001b[0;31m---------------------------------------------------------------------------\u001b[0m",
      "\u001b[0;31mNameError\u001b[0m                                 Traceback (most recent call last)",
      "\u001b[0;32m<ipython-input-41-166f26f60f44>\u001b[0m in \u001b[0;36m<module>\u001b[0;34m()\u001b[0m\n\u001b[1;32m      7\u001b[0m     \u001b[0msucceeded\u001b[0m \u001b[1;33m=\u001b[0m \u001b[1;32mFalse\u001b[0m\u001b[1;33m\u001b[0m\u001b[0m\n\u001b[1;32m      8\u001b[0m     \u001b[1;32mfor\u001b[0m \u001b[0mcandidate\u001b[0m \u001b[1;32min\u001b[0m \u001b[0mcandidates\u001b[0m\u001b[1;33m:\u001b[0m\u001b[1;33m\u001b[0m\u001b[0m\n\u001b[0;32m----> 9\u001b[0;31m         \u001b[1;32mif\u001b[0m \u001b[1;32mnot\u001b[0m \u001b[0mcheck_collisions\u001b[0m\u001b[1;33m(\u001b[0m\u001b[0mgrid\u001b[0m\u001b[1;33m,\u001b[0m \u001b[0mcandidate\u001b[0m\u001b[1;33m,\u001b[0m \u001b[0mcollider\u001b[0m\u001b[1;33m)\u001b[0m\u001b[1;33m:\u001b[0m  \u001b[1;31m# check if point can fit\u001b[0m\u001b[1;33m\u001b[0m\u001b[0m\n\u001b[0m\u001b[1;32m     10\u001b[0m             \u001b[0mactive_points\u001b[0m\u001b[1;33m.\u001b[0m\u001b[0madd\u001b[0m\u001b[1;33m(\u001b[0m\u001b[0mcandidate\u001b[0m\u001b[1;33m)\u001b[0m  \u001b[1;31m# add point to active_points\u001b[0m\u001b[1;33m\u001b[0m\u001b[0m\n\u001b[1;32m     11\u001b[0m             \u001b[0mgrid\u001b[0m\u001b[1;33m[\u001b[0m\u001b[0mint\u001b[0m\u001b[1;33m(\u001b[0m\u001b[0mcandidate\u001b[0m\u001b[1;33m)\u001b[0m\u001b[1;33m]\u001b[0m \u001b[1;33m=\u001b[0m \u001b[0mlen\u001b[0m\u001b[1;33m(\u001b[0m\u001b[0mactive_points\u001b[0m\u001b[1;33m)\u001b[0m \u001b[1;33m-\u001b[0m \u001b[1;36m1\u001b[0m  \u001b[1;31m# add index to grid\u001b[0m\u001b[1;33m\u001b[0m\u001b[0m\n",
      "\u001b[0;31mNameError\u001b[0m: name 'check_collisions' is not defined"
     ],
     "output_type": "error"
    }
   ],
   "source": [
    "while active_points:\n",
    "    active_point = sample(active_points, 1)[0]\n",
    "    print(active_point)\n",
    "    annulus = generate_annular_selector(2 * r, r)\n",
    "    collider = generate_annular_selector(r, 0)\n",
    "    candidates = generate_candidates(active_point, annulus, n_candidates)\n",
    "    succeeded = False\n",
    "    for candidate in candidates:\n",
    "        if not check_collisions(grid, candidate, collider):  # check if point can fit\n",
    "            active_points.add(candidate)  # add point to active_points\n",
    "            grid[int(candidate)] = len(active_points) - 1  # add index to grid\n",
    "            succeeded = True\n",
    "    if not succeeded:\n",
    "        active_points.remove(active_point)"
   ]
  },
  {
   "cell_type": "code",
   "execution_count": 60,
   "metadata": {
    "collapsed": false
   },
   "outputs": [
    {
     "data": {
      "text/plain": [
       "(96, 69)"
      ]
     },
     "execution_count": 60,
     "metadata": {},
     "output_type": "execute_result"
    }
   ],
   "source": [
    ""
   ]
  }
 ],
 "metadata": {
  "kernelspec": {
   "display_name": "Python 3",
   "language": "python",
   "name": "python3"
  },
  "language_info": {
   "codemirror_mode": {
    "name": "ipython",
    "version": 3.0
   },
   "file_extension": ".py",
   "mimetype": "text/x-python",
   "name": "python",
   "nbconvert_exporter": "python",
   "pygments_lexer": "ipython3",
   "version": "3.5.0"
  }
 },
 "nbformat": 4,
 "nbformat_minor": 0
}